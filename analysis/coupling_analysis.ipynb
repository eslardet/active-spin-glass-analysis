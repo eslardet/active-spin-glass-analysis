{
 "cells": [
  {
   "cell_type": "code",
   "execution_count": 1,
   "metadata": {
    "ExecuteTime": {
     "end_time": "2023-05-12T15:05:51.102016Z",
     "start_time": "2023-05-12T15:05:48.899691Z"
    }
   },
   "outputs": [],
   "source": [
    "import numpy as np\n",
    "import analysis_functions_vicsek_new as fun\n",
    "import matplotlib.pyplot as plt\n",
    "import time\n",
    "import scipy.stats as sps\n",
    "import os\n",
    "import freud\n",
    "import analysis_functions_vicsek_new as fun\n",
    "from matplotlib import cm, colors\n",
    "import random\n"
   ]
  },
  {
   "cell_type": "code",
   "execution_count": 2,
   "metadata": {
    "ExecuteTime": {
     "end_time": "2023-05-12T15:05:51.129591Z",
     "start_time": "2023-05-12T15:05:51.103294Z"
    }
   },
   "outputs": [],
   "source": [
    "\n",
    "mode = \"G\"\n",
    "nPart = 10000\n",
    "phi = 1.0\n",
    "noise = \"0.20\"\n",
    "Rp = 1.0\n",
    "K = \"0.0_8.0\"\n",
    "xTy = 1.0\n",
    "seed = 1\n",
    "\n",
    "L = np.sqrt(nPart / (phi*xTy))\n",
    "Ly = L\n",
    "Lx = L*xTy\n",
    "inparFile, posFile = fun.get_files(mode=mode, nPart=nPart, phi=phi, noise=noise, K=K, Rp=Rp, xTy=xTy, seed=seed)\n",
    "posFileExact = fun.get_file_path(mode=mode, nPart=nPart, phi=phi, noise=noise, K=K, Rp=Rp, xTy=xTy, seed=seed, file_name=\"pos_exact\")\n",
    "\n",
    "# posFileExact = '/Users/el2021/Code/2D_ActiveSpinGlass_EL/simulation_data/Gaussian/N10000/phi1.0_n0.20/K0.0_8.0/Rp1.0/xTy1.0/s1/pos_exact'\n",
    "x, y, theta, view_time = fun.get_pos_ex_snapshot(posFileExact)\n"
   ]
  },
  {
   "cell_type": "code",
   "execution_count": null,
   "metadata": {},
   "outputs": [],
   "source": [
    "# norm = colors.Normalize(vmin=0.0, vmax=np.max(num_nei), clip=True)\n",
    "# mapper = cm.ScalarMappable(norm=norm, cmap=cm.plasma)\n",
    "# cols = mapper.to_rgba(num_nei)\n",
    "\n",
    "# cols = [cols[i] for i in indices]\n",
    "\n",
    "# fig, ax = plt.subplots(figsize=(10*xTy,10), dpi=72)\n",
    "# # ax.scatter(x_c, y_c, s=0.1)\n",
    "# ax.quiver(x_c, y_c, u, v, color=cols)\n",
    "# ax.set_xlim(0,Lx)\n",
    "# ax.set_ylim(0,Ly)\n",
    "# plt.show()"
   ]
  },
  {
   "cell_type": "code",
   "execution_count": 3,
   "metadata": {
    "ExecuteTime": {
     "end_time": "2023-05-12T15:05:52.843269Z",
     "start_time": "2023-05-12T15:05:52.717777Z"
    }
   },
   "outputs": [],
   "source": [
    "indices = []\n",
    "x_c = []\n",
    "y_c = []\n",
    "p_c = []\n",
    "\n",
    "for i in range(nPart):\n",
    "    xw = fun.pbc_wrap(x[i], L)\n",
    "    yw = fun.pbc_wrap(y[i], L)\n",
    "    if xw < 42 and xw>38:\n",
    "        if yw< 70 and yw>68:\n",
    "            indices.append(i)\n",
    "            x_c.append(xw)\n",
    "            y_c.append(yw)\n",
    "            p_c.append(theta[i])\n",
    "\n",
    "u = np.cos(p_c)\n",
    "v = np.sin(p_c)\n",
    "\n",
    "num_nei = fun.neighbour_counts(mode, nPart, phi, noise, K, Rp, xTy, seed, r_max=1)\n"
   ]
  },
  {
   "cell_type": "code",
   "execution_count": 4,
   "metadata": {
    "ExecuteTime": {
     "end_time": "2023-05-12T15:05:56.060527Z",
     "start_time": "2023-05-12T15:05:56.053572Z"
    }
   },
   "outputs": [
    {
     "name": "stdout",
     "output_type": "stream",
     "text": [
      "[500, 838, 1000, 1094, 1111, 1216, 1307, 1381, 1395, 1408, 1550, 1555, 1782, 1800, 1942, 1976, 2074, 2156, 2476, 2852, 3470, 3479, 3977, 4289, 4552, 4701, 4762, 5217, 5339, 5638, 6052, 6421, 7178, 7363, 7436, 7593, 8061, 8069, 8194, 8309, 8312, 8751, 8907, 9137]\n",
      "44\n"
     ]
    }
   ],
   "source": [
    "print(indices)\n",
    "print(len(indices))"
   ]
  },
  {
   "cell_type": "code",
   "execution_count": 5,
   "metadata": {
    "ExecuteTime": {
     "end_time": "2023-05-12T15:06:34.906451Z",
     "start_time": "2023-05-12T15:05:57.049731Z"
    }
   },
   "outputs": [],
   "source": [
    "\n",
    "sim_dir = fun.get_sim_dir(mode=mode, nPart=nPart, phi=phi, noise=noise, K=K, Rp=Rp, xTy=xTy, seed=seed)\n",
    "couplingFile = os.path.join(sim_dir, \"coupling\")\n",
    "\n",
    "\n",
    "with open(couplingFile) as f:\n",
    "    num = len(indices)\n",
    "    # K_matrix = np.zeros((num, num))\n",
    "    K_list = []\n",
    "    K_all = []\n",
    "    line = 0\n",
    "    i = 0\n",
    "    j = i+1\n",
    "    k = nPart-1\n",
    "    start_row = 0\n",
    "    K_list = []\n",
    "    for Kij in f:\n",
    "        if i in indices and j in indices:\n",
    "            # K_matrix[indices.index(i)][indices.index(j)] = float(Kij)\n",
    "            K_list.append(float(Kij))\n",
    "        K_all.append(float(Kij))\n",
    "        line += 1\n",
    "        if line == start_row + k:\n",
    "            i += 1\n",
    "            j = i+1\n",
    "            k -= 1\n",
    "            start_row = line\n",
    "        else:\n",
    "            j += 1\n",
    "\n"
   ]
  },
  {
   "cell_type": "code",
   "execution_count": 17,
   "metadata": {
    "ExecuteTime": {
     "end_time": "2023-05-12T15:15:43.302416Z",
     "start_time": "2023-05-12T15:15:42.172197Z"
    }
   },
   "outputs": [
    {
     "data": {
      "image/png": "[encoded data removed]",
      "text/plain": [
       "<Figure size 640x480 with 1 Axes>"
      ]
     },
     "metadata": {},
     "output_type": "display_data"
    }
   ],
   "source": [
    "plt.hist(K_list, bins=50, alpha=0.5, density=True)\n",
    "K_random = random.sample(K_all, len(K_list))\n",
    "plt.hist(K_random, bins=50, alpha=0.5, density=True)\n",
    "plt.show()\n",
    "\n",
    "\n"
   ]
  }
 ],
 "metadata": {
  "kernelspec": {
   "display_name": "Python [conda env:asg]",
   "language": "python",
   "name": "conda-env-asg-py"
  },
  "language_info": {
   "codemirror_mode": {
    "name": "ipython",
    "version": 3
   },
   "file_extension": ".py",
   "mimetype": "text/x-python",
   "name": "python",
   "nbconvert_exporter": "python",
   "pygments_lexer": "ipython3",
   "version": "3.9.13"
  }
 },
 "nbformat": 4,
 "nbformat_minor": 2
}
